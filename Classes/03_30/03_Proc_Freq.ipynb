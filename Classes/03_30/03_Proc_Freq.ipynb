{
 "cells": [
  {
   "cell_type": "markdown",
   "metadata": {},
   "source": [
    "# How to do PROC FREQ in Python\n",
    "Reference: [Can we get SAS Proc Freq with Python?](https://medium.com/eduonline24/can-we-get-sas-proc-freq-with-python-c6af752f387a)"
   ]
  },
  {
   "cell_type": "markdown",
   "metadata": {},
   "source": [
    "## EXERCISE \n",
    "\n",
    "1. In SAS Studio, import ~/my_shared_file_links/u50425759/governors_county.csv\n",
    "\n",
    "    * Drag and drop governors_county.csv into the work area\n",
    "    * Change the output data set name to WORK.GOVERNORS\n",
    "    \n",
    "1. Run a proc freq in SAS Studio\n",
    "    ```\n",
    "    proc freq data=work.governors;\n",
    "        tables state;\n",
    "    run;  \n",
    "    ```\n",
    "\n",
    "1. Work through the following Python code to get the same output "
   ]
  },
  {
   "cell_type": "code",
   "execution_count": null,
   "metadata": {},
   "outputs": [],
   "source": [
    "import pandas as pd"
   ]
  },
  {
   "cell_type": "code",
   "execution_count": null,
   "metadata": {},
   "outputs": [],
   "source": [
    "data = pd.read_csv(\"governors_county.csv\")"
   ]
  },
  {
   "cell_type": "code",
   "execution_count": null,
   "metadata": {},
   "outputs": [],
   "source": [
    "# Force the sort to be by 'state' rather than descending counts\n",
    "datax = data['state'].value_counts().sort_index()\n",
    "datax"
   ]
  },
  {
   "cell_type": "code",
   "execution_count": null,
   "metadata": {},
   "outputs": [],
   "source": [
    "# Dividing data values by their sum and the n multiplying by 100 \n",
    "# gives us the percentage for each value. \n",
    "# We are using the sum() and cumsum() functions to get \n",
    "# the sum and cumulative sums of the variables.\n",
    "datay = pd.DataFrame({\n",
    "    'state': datax.index,\n",
    "    'Frequency': datax.values,\n",
    "    'Percent': ((datax.values/datax.values.sum())*100).round(2),\n",
    "    'Cumulative Frequency': datax.values.cumsum(),\n",
    "    'Cumulative Percent': ((datax.values.cumsum()/datax.values.sum())*100).round(2)\n",
    "    })\n",
    "datay"
   ]
  }
 ],
 "metadata": {
  "kernelspec": {
   "display_name": "Python 3",
   "language": "python",
   "name": "python3"
  },
  "language_info": {
   "codemirror_mode": {
    "name": "ipython",
    "version": 3
   },
   "file_extension": ".py",
   "mimetype": "text/x-python",
   "name": "python",
   "nbconvert_exporter": "python",
   "pygments_lexer": "ipython3",
   "version": "3.8.5"
  }
 },
 "nbformat": 4,
 "nbformat_minor": 4
}
