{
 "cells": [
  {
   "cell_type": "markdown",
   "metadata": {},
   "source": [
    "---\n",
    "# Activity: p103a03.sas\n",
    "---"
   ]
  },
  {
   "cell_type": "code",
   "execution_count": null,
   "metadata": {},
   "outputs": [],
   "source": [
    "# Standard imports.\n",
    "import saspy\n",
    "import pandas as pd\n",
    "import numpy as np\n",
    "import matplotlib.pyplot as plt\n",
    "from IPython.display import HTML\n",
    "from datetime import datetime\n",
    "from numpy import nan as NA\n",
    "import math"
   ]
  },
  {
   "cell_type": "code",
   "execution_count": null,
   "metadata": {},
   "outputs": [],
   "source": [
    "# Get a SAS session object\n",
    "sas = saspy.SASsession(cfgname=\"oda\")"
   ]
  },
  {
   "cell_type": "code",
   "execution_count": null,
   "metadata": {},
   "outputs": [],
   "source": [
    "# Assign the PG1 library\n",
    "sas.saslib('pg1', engine='base', path='~/PG1/Data/data/data')"
   ]
  },
  {
   "cell_type": "markdown",
   "metadata": {},
   "source": [
    "---\n",
    "# SAS Code\n",
    "```\n",
    "%let BasinCode=NA;\n",
    "\n",
    "proc means data=pg1.storm_summary;\n",
    "\twhere Basin=\"&BasinCode\";\n",
    "\tvar MaxWindMPH MinPressure;\n",
    "run;\n",
    "\n",
    "proc freq data=pg1.storm_summary;\n",
    "\twhere Basin='&BasinCode';\n",
    "\ttables Type;\n",
    "run;\n",
    "\n",
    "```\n",
    "---"
   ]
  },
  {
   "cell_type": "code",
   "execution_count": null,
   "metadata": {},
   "outputs": [],
   "source": [
    "# Creat a new DataFrame object by pulling PG1.STORM_SUMMARY data from SAS.\n",
    "storm_summary_df = sas.sasdata('STORM_SUMMARY', 'PG1').to_df()"
   ]
  },
  {
   "cell_type": "code",
   "execution_count": 6,
   "metadata": {},
   "outputs": [
    {
     "data": {
      "text/plain": [
       "'Succesfully disconnected. Be sure to have a valid network connection before submitting anything else.'"
      ]
     },
     "execution_count": 6,
     "metadata": {},
     "output_type": "execute_result"
    }
   ],
   "source": [
    "# Disconnect from SAS server\n",
    "sas.disconnect()"
   ]
  },
  {
   "cell_type": "code",
   "execution_count": 8,
   "metadata": {},
   "outputs": [
    {
     "data": {
      "text/html": [
       "<div>\n",
       "<style scoped>\n",
       "    .dataframe tbody tr th:only-of-type {\n",
       "        vertical-align: middle;\n",
       "    }\n",
       "\n",
       "    .dataframe tbody tr th {\n",
       "        vertical-align: top;\n",
       "    }\n",
       "\n",
       "    .dataframe thead th {\n",
       "        text-align: right;\n",
       "    }\n",
       "</style>\n",
       "<table border=\"1\" class=\"dataframe\">\n",
       "  <thead>\n",
       "    <tr style=\"text-align: right;\">\n",
       "      <th></th>\n",
       "      <th>Season</th>\n",
       "      <th>Name</th>\n",
       "      <th>Basin</th>\n",
       "      <th>Type</th>\n",
       "      <th>MaxWindMPH</th>\n",
       "      <th>MinPressure</th>\n",
       "      <th>StartDate</th>\n",
       "      <th>EndDate</th>\n",
       "      <th>Hem_NS</th>\n",
       "      <th>Hem_EW</th>\n",
       "      <th>Lat</th>\n",
       "      <th>Lon</th>\n",
       "    </tr>\n",
       "  </thead>\n",
       "  <tbody>\n",
       "    <tr>\n",
       "      <th>3113</th>\n",
       "      <td>2016</td>\n",
       "      <td>VARDAH</td>\n",
       "      <td>NI</td>\n",
       "      <td>NR</td>\n",
       "      <td>81.0</td>\n",
       "      <td>975.0</td>\n",
       "      <td>2016-12-06</td>\n",
       "      <td>2016-12-17</td>\n",
       "      <td>N</td>\n",
       "      <td>E</td>\n",
       "      <td>13.3</td>\n",
       "      <td>84.7</td>\n",
       "    </tr>\n",
       "    <tr>\n",
       "      <th>3114</th>\n",
       "      <td>2016</td>\n",
       "      <td>VICTOR</td>\n",
       "      <td>SP</td>\n",
       "      <td>NR</td>\n",
       "      <td>92.0</td>\n",
       "      <td>958.0</td>\n",
       "      <td>2016-01-14</td>\n",
       "      <td>2016-01-22</td>\n",
       "      <td>S</td>\n",
       "      <td>W</td>\n",
       "      <td>-20.2</td>\n",
       "      <td>-166.3</td>\n",
       "    </tr>\n",
       "    <tr>\n",
       "      <th>3115</th>\n",
       "      <td>2016</td>\n",
       "      <td>WINSTON</td>\n",
       "      <td>SP</td>\n",
       "      <td>NR</td>\n",
       "      <td>173.0</td>\n",
       "      <td>884.0</td>\n",
       "      <td>2016-02-10</td>\n",
       "      <td>2016-02-26</td>\n",
       "      <td>S</td>\n",
       "      <td>E</td>\n",
       "      <td>-17.0</td>\n",
       "      <td>179.9</td>\n",
       "    </tr>\n",
       "    <tr>\n",
       "      <th>3116</th>\n",
       "      <td>2016</td>\n",
       "      <td>YALO</td>\n",
       "      <td>SP</td>\n",
       "      <td>NR</td>\n",
       "      <td>46.0</td>\n",
       "      <td>100.0</td>\n",
       "      <td>2016-02-24</td>\n",
       "      <td>2016-02-26</td>\n",
       "      <td>S</td>\n",
       "      <td>W</td>\n",
       "      <td>-20.0</td>\n",
       "      <td>-154.9</td>\n",
       "    </tr>\n",
       "    <tr>\n",
       "      <th>3117</th>\n",
       "      <td>2016</td>\n",
       "      <td>ZENA</td>\n",
       "      <td>SP</td>\n",
       "      <td>NR</td>\n",
       "      <td>81.0</td>\n",
       "      <td>975.0</td>\n",
       "      <td>2016-04-05</td>\n",
       "      <td>2016-04-07</td>\n",
       "      <td>S</td>\n",
       "      <td>W</td>\n",
       "      <td>-18.8</td>\n",
       "      <td>175.3</td>\n",
       "    </tr>\n",
       "  </tbody>\n",
       "</table>\n",
       "</div>"
      ],
      "text/plain": [
       "      Season     Name Basin Type  MaxWindMPH  MinPressure  StartDate  \\\n",
       "3113    2016   VARDAH    NI   NR        81.0        975.0 2016-12-06   \n",
       "3114    2016   VICTOR    SP   NR        92.0        958.0 2016-01-14   \n",
       "3115    2016  WINSTON    SP   NR       173.0        884.0 2016-02-10   \n",
       "3116    2016     YALO    SP   NR        46.0        100.0 2016-02-24   \n",
       "3117    2016     ZENA    SP   NR        81.0        975.0 2016-04-05   \n",
       "\n",
       "        EndDate Hem_NS Hem_EW   Lat    Lon  \n",
       "3113 2016-12-17      N      E  13.3   84.7  \n",
       "3114 2016-01-22      S      W -20.2 -166.3  \n",
       "3115 2016-02-26      S      E -17.0  179.9  \n",
       "3116 2016-02-26      S      W -20.0 -154.9  \n",
       "3117 2016-04-07      S      W -18.8  175.3  "
      ]
     },
     "execution_count": 8,
     "metadata": {},
     "output_type": "execute_result"
    }
   ],
   "source": [
    "# Print out the first 5 records\n",
    "storm_summary_df.tail()"
   ]
  },
  {
   "cell_type": "code",
   "execution_count": 9,
   "metadata": {},
   "outputs": [
    {
     "data": {
      "text/html": [
       "<div>\n",
       "<style scoped>\n",
       "    .dataframe tbody tr th:only-of-type {\n",
       "        vertical-align: middle;\n",
       "    }\n",
       "\n",
       "    .dataframe tbody tr th {\n",
       "        vertical-align: top;\n",
       "    }\n",
       "\n",
       "    .dataframe thead th {\n",
       "        text-align: right;\n",
       "    }\n",
       "</style>\n",
       "<table border=\"1\" class=\"dataframe\">\n",
       "  <thead>\n",
       "    <tr style=\"text-align: right;\">\n",
       "      <th></th>\n",
       "      <th>count</th>\n",
       "      <th>mean</th>\n",
       "      <th>std</th>\n",
       "      <th>min</th>\n",
       "      <th>25%</th>\n",
       "      <th>50%</th>\n",
       "      <th>75%</th>\n",
       "      <th>max</th>\n",
       "    </tr>\n",
       "  </thead>\n",
       "  <tbody>\n",
       "    <tr>\n",
       "      <th>MaxWindMPH</th>\n",
       "      <td>354.0</td>\n",
       "      <td>77.593220</td>\n",
       "      <td>28.083719</td>\n",
       "      <td>35.0</td>\n",
       "      <td>58.0</td>\n",
       "      <td>69.0</td>\n",
       "      <td>92.0</td>\n",
       "      <td>173.0</td>\n",
       "    </tr>\n",
       "    <tr>\n",
       "      <th>MinPressure</th>\n",
       "      <td>359.0</td>\n",
       "      <td>903.487465</td>\n",
       "      <td>818.808652</td>\n",
       "      <td>-9999.0</td>\n",
       "      <td>954.0</td>\n",
       "      <td>975.0</td>\n",
       "      <td>986.0</td>\n",
       "      <td>998.0</td>\n",
       "    </tr>\n",
       "  </tbody>\n",
       "</table>\n",
       "</div>"
      ],
      "text/plain": [
       "             count        mean         std     min    25%    50%    75%    max\n",
       "MaxWindMPH   354.0   77.593220   28.083719    35.0   58.0   69.0   92.0  173.0\n",
       "MinPressure  359.0  903.487465  818.808652 -9999.0  954.0  975.0  986.0  998.0"
      ]
     },
     "execution_count": 9,
     "metadata": {},
     "output_type": "execute_result"
    }
   ],
   "source": [
    "# Drop the columns we don't want\n",
    "# Apply a where filter to just get BasinCode basins\n",
    "# Describe and Transpose\n",
    "BasinCode = 'SP'\n",
    "storm_summary_df.drop(columns=['Season', 'Lat', 'Lon']).where(storm_summary_df['Basin'] == BasinCode).describe().T"
   ]
  },
  {
   "cell_type": "code",
   "execution_count": 10,
   "metadata": {},
   "outputs": [
    {
     "data": {
      "text/plain": [
       "Type\n",
       "NR    359\n",
       "dtype: int64"
      ]
     },
     "execution_count": 10,
     "metadata": {},
     "output_type": "execute_result"
    }
   ],
   "source": [
    "storm_summary_df.drop(columns=['Season', 'Lat', 'Lon']).where(storm_summary_df['Basin'] == BasinCode).value_counts('Type')"
   ]
  },
  {
   "cell_type": "code",
   "execution_count": null,
   "metadata": {},
   "outputs": [],
   "source": []
  }
 ],
 "metadata": {
  "kernelspec": {
   "display_name": "Python 3",
   "language": "python",
   "name": "python3"
  },
  "language_info": {
   "codemirror_mode": {
    "name": "ipython",
    "version": 3
   },
   "file_extension": ".py",
   "mimetype": "text/x-python",
   "name": "python",
   "nbconvert_exporter": "python",
   "pygments_lexer": "ipython3",
   "version": "3.8.5"
  }
 },
 "nbformat": 4,
 "nbformat_minor": 4
}
